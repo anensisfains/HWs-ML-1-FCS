{
 "cells": [
  {
   "cell_type": "markdown",
   "metadata": {
    "id": "HcF9My_FhLuk"
   },
   "source": [
    "## Машинное обучение 1, ПМИ ФКН ВШЭ\n",
    "\n",
    "## Практическое домашнее задание 1\n",
    "\n",
    "### Общая информация\n",
    "\n",
    "Дата выдачи: 25.09.2024\n",
    "\n",
    "Мягкий дедлайн: 23:59MSK 06.10.2024\n",
    "\n",
    "Жесткий дедлайн: 23:59MSK 10.10.2024"
   ]
  },
  {
   "cell_type": "markdown",
   "metadata": {
    "id": "G64TptyJhLuo"
   },
   "source": [
    "### О задании\n",
    "\n",
    "Задание состоит из двух разделов, посвященных работе с табличными данными с помощью библиотеки `pandas` и визуализации с помощью `matplotlib`. В первом разделе вам предстоит выполнить базовые задания с помощью вышеуказанных библиотек, а во втором распределить студентов по курсам. Баллы даются за выполнение отдельных пунктов. Задачи в рамках одного раздела рекомендуется решать в том порядке, в котором они даны в задании.\n",
    "\n",
    "Задание направлено на освоение jupyter notebook (будет использоваться в дальнейших заданиях), библиотек pandas и matplotlib.\n",
    "\n",
    "### Оценивание и штрафы\n",
    "Каждая из задач имеет определенную «стоимость» (указана в скобках около задачи). Максимально допустимая оценка за работу — 10 баллов без учёта бонусов. Сдавать задание после жёсткого дедлайна нельзя.\n",
    "\n",
    "Задание выполняется самостоятельно. «Похожие» решения считаются плагиатом и все задействованные студенты (в том числе те, у кого списали) не могут получить за него больше 0 баллов (подробнее о плагиате см. на странице курса). Если вы нашли решение какого-то из заданий (или его часть) в открытом источнике, необходимо указать ссылку на этот источник (скорее всего вы будете не единственным, кто это нашел, поэтому чтобы исключить подозрение в плагиате, необходима ссылка на источник).\n",
    "\n",
    "### Формат сдачи\n",
    "Задания сдаются через систему Anytask. Инвайт можно получить у семинариста или ассистента. Присылать необходимо ноутбук с выполненным заданием. Сам ноутбук называйте в формате `homework-practice-01-pandas-Username.ipynb`, где Username — ваша фамилия.\n",
    "\n",
    "Для удобства проверки самостоятельно посчитайте свою максимальную оценку (исходя из набора решенных задач) и укажите ниже.\n",
    "\n",
    "Оценка: 10 (решал все)"
   ]
  },
  {
   "cell_type": "markdown",
   "metadata": {
    "id": "BaXlfHE_hLup"
   },
   "source": [
    "## 0. Введение"
   ]
  },
  {
   "cell_type": "markdown",
   "metadata": {
    "id": "wirAvJNxhLup"
   },
   "source": [
    "Сейчас мы находимся в jupyter-ноутбуке (или ipython-ноутбуке). Это удобная среда для написания кода, проведения экспериментов, изучения данных, построения визуализаций и других нужд, не связанных с написанием production-кода.\n",
    "\n",
    "Ноутбук состоит из ячеек, каждая из которых может быть либо ячейкой с кодом, либо ячейкой с текстом размеченным и неразмеченным. Текст поддерживает markdown-разметку и формулы в Latex.\n",
    "\n",
    "Для работы с содержимым ячейки используется *режим редактирования* (*Edit mode*, включается нажатием клавиши **Enter** после выбора ячейки), а для навигации между ячейками искользуется *командный режим* (*Command mode*, включается нажатием клавиши **Esc**). Тип ячейки можно задать в командном режиме либо с помощью горячих клавиш (**y** to code, **m** to markdown, **r** to edit raw text), либо в меню *Cell -> Cell type*.\n",
    "\n",
    "После заполнения ячейки нужно нажать *Shift + Enter*, эта команда обработает содержимое ячейки: проинтерпретирует код или сверстает размеченный текст."
   ]
  },
  {
   "cell_type": "code",
   "execution_count": 1,
   "metadata": {
    "id": "aQ2_j3nkhLuq"
   },
   "outputs": [
    {
     "data": {
      "text/plain": [
       "4"
      ]
     },
     "execution_count": 1,
     "metadata": {},
     "output_type": "execute_result"
    }
   ],
   "source": [
    "# ячейка с кодом, при выполнении которой появится output\n",
    "2 + 2"
   ]
  },
  {
   "cell_type": "markdown",
   "metadata": {
    "id": "ZlulCwVKhLur"
   },
   "source": [
    "Ячейка с неразмеченным текстом."
   ]
  },
  {
   "cell_type": "markdown",
   "metadata": {
    "id": "A4wkVlIehLur"
   },
   "source": [
    "Попробуйте создать свои ячейки, написать какой-нибудь код и текст какой-нибудь формулой."
   ]
  },
  {
   "cell_type": "code",
   "execution_count": null,
   "metadata": {
    "id": "BIuaYSvqhLus"
   },
   "outputs": [],
   "source": [
    "# your code"
   ]
  },
  {
   "cell_type": "markdown",
   "metadata": {
    "id": "iWs6ljrIhLus"
   },
   "source": [
    "[Здесь](https://athena.brynmawr.edu/jupyter/hub/dblank/public/Jupyter%20Notebook%20Users%20Manual.ipynb) находится <s>не</s>большая заметка о используемом языке разметки Markdown. Он позволяет:\n",
    "\n",
    "0. Составлять упорядоченные списки\n",
    "1. Выделять *текст* <s>при</s> **необходимости**\n",
    "2. Добавлять [ссылки](http://imgs.xkcd.com/comics/the_universal_label.png)\n",
    "\n",
    "\n",
    "* Составлять неупорядоченные списки\n",
    "\n",
    "Делать вставки с помощью LaTex:\n",
    "    \n",
    "$\n",
    "\\left\\{\n",
    "\\begin{array}{ll}\n",
    "x = 16 \\sin^3 (t) \\\\\n",
    "y = 13 \\cos (t) - 5 \\cos (2t) - 2 \\cos (3t) - \\cos (4t) \\\\\n",
    "t \\in [0, 2 \\pi]\n",
    "\\end{array}\n",
    "\\right.$"
   ]
  },
  {
   "cell_type": "markdown",
   "metadata": {
    "id": "6fmTGcXOhLus"
   },
   "source": [
    "А ещё можно вставлять картинки, или гифки, или что захотите:\n",
    "\n",
    "<img src=\"https://media1.tenor.com/images/9b8fbe9214504bcf6c60fe4e4f7e114e/tenor.gif?itemid=5416416\" style=\"width: 400px\">"
   ]
  },
  {
   "cell_type": "markdown",
   "metadata": {
    "id": "J_toGw7DhLut"
   },
   "source": [
    "### Google Colab"
   ]
  },
  {
   "cell_type": "markdown",
   "metadata": {
    "id": "jpkbCVjGhLut"
   },
   "source": [
    "Что за колаб?\n",
    "\n",
    "**Google Colab (Colaboratory)** это **Jupyter Notebook + Cloud + Google Drive.**\n",
    "\n",
    "Компания Google предоставляет возможность бесплатно запускать ноутбуки (предварительно загрузив их на свой гугл-диск) прямо в облаке. При этом вам не требуется установка никаких пакетов на свою машину, а работать можно прямиком из браузера. Вот ссылка:"
   ]
  },
  {
   "cell_type": "markdown",
   "metadata": {
    "id": "06MQog3yhLut"
   },
   "source": [
    "https://colab.research.google.com"
   ]
  },
  {
   "cell_type": "markdown",
   "metadata": {
    "id": "5_hfWXKPhLut"
   },
   "source": [
    "При использовании вы увидите много сходств с jupyter ноутбуком. Одним из преимуществ является доступность GPU, соответствующую опцию можно активировать в настройках сервиса. При желании вы сможете найти в интернете много туториалов по использованию или разобраться самостоятельно"
   ]
  },
  {
   "cell_type": "markdown",
   "metadata": {
    "id": "DcRcwHpG8pxB"
   },
   "source": [
    "### Kaggle\n",
    "\n",
    "Альтернативой является **Kaggle**, он же площадка для самых разных соревнований по машинному обучению\n",
    "\n",
    "Он, как и колаб, предоставляет бесплатный GPU, и даже не один, с чётким лимитом в 30 часов в неделю (colab может его внезапно отобрать, kaggle - нет) более мощные CPU с большим числом ядер, и больше Гб ОЗУ (раз так в 2.5)\n",
    "\n",
    "https://www.kaggle.com\n",
    "\n",
    "К сожалению мир не идеален, недостатки следующие:\n",
    "- необходимость загружать датасеты через специальную кнопочку\n",
    "- невозможность использовать свои скрипты и модули :(\n",
    "- нужно тыкать техподдержку, чтобы создать аккаунт из России"
   ]
  },
  {
   "cell_type": "markdown",
   "metadata": {
    "id": "sUe2vnFGhLuu"
   },
   "source": [
    "## 1. Табличные данные и Pandas"
   ]
  },
  {
   "cell_type": "markdown",
   "metadata": {
    "id": "DJQzjjqJhLuu"
   },
   "source": [
    "Pandas — удобная библиотека для работы с табличными данными в Python, если данных не слишком много и они помещаются в оперативную память вашего компьютера. Несмотря на неэффективность реализации и некоторые проблемы, библиотека стала стандартом в анализе данных.\n",
    "\n",
    "Основной объект в `pandas` — это `pd.DataFrame`, представляющий собой таблицу с именованными колонками различных типов, индексом (может быть многоуровневым). DataFrame можно создавать, считывая таблицу из файла или задавая вручную из других объектов.\n",
    "\n",
    "В этой части потребуется выполнить несколько небольших заданий. Можно пойти двумя путями: сначала изучить материалы, а потом приступить к заданиям, или же разбираться \"по ходу\". Выбирайте сами.\n",
    "\n",
    "Материалы:\n",
    "1. [Pandas за 10 минут из официального руководства](http://pandas.pydata.org/pandas-docs/stable/10min.html)\n",
    "2. [Документация](http://pandas.pydata.org/pandas-docs/stable/index.html) (стоит обращаться, если не понятно, как вызывать конкретный метод)\n",
    "3. [Примеры использования функционала](http://nbviewer.jupyter.org/github/justmarkham/pandas-videos/blob/master/pandas.ipynb)\n",
    "\n",
    "Многие из заданий можно выполнить несколькими способами. Не существуют единственно верного, но попробуйте максимально задействовать арсенал pandas и ориентируйтесь на простоту и понятность вашего кода. Мы не будем подсказывать, что нужно использовать для решения конкретной задачи, попробуйте находить необходимый функционал сами (название метода чаще всего очевидно). В помощь вам документация, поиск и StackOverflow."
   ]
  },
  {
   "cell_type": "code",
   "execution_count": 2,
   "metadata": {
    "id": "26zbFY25hLuv",
    "outputId": "404c22c6-2696-48ab-c71e-7a3ffbc36b18"
   },
   "outputs": [
    {
     "name": "stdout",
     "output_type": "stream",
     "text": [
      "%pylab is deprecated, use %matplotlib inline and import the required libraries.\n",
      "Populating the interactive namespace from numpy and matplotlib\n"
     ]
    }
   ],
   "source": [
    "%pylab inline\n",
    "import pandas as pd"
   ]
  },
  {
   "cell_type": "markdown",
   "metadata": {
    "id": "QZmj3q3c8A8c"
   },
   "source": [
    "<span style=\"color:red\">Перед выполнением задания необходимо ознакомиться с первым семинаром (seminars/sem01-pandas.ipynb) </span>.\n",
    "\n",
    "Это поможет вам получить общее понимание происходяшего и успешнее справиться с заданием.\n",
    "\n",
    "Также успешному выполнению способствует внимательное чтение текста задания от начала до конца.\n",
    "\n",
    "Удачи!"
   ]
  },
  {
   "cell_type": "markdown",
   "metadata": {
    "id": "dneJl9TyhLuv"
   },
   "source": [
    "Скачаем подготовленные на семинаре данные:"
   ]
  },
  {
   "cell_type": "code",
   "execution_count": 3,
   "metadata": {
    "id": "rj_I0RslhLuw"
   },
   "outputs": [],
   "source": [
    "!wget  -O 'end_seminar.xlsx' -q 'https://www.dropbox.com/s/f4rm8sjc3v99p0m/_end_seminar.xlsx?dl=0'"
   ]
  },
  {
   "cell_type": "markdown",
   "metadata": {
    "id": "5hp7bn_ThLuw"
   },
   "source": [
    "Для пользователей Windows: скачайте файл самостоятельно и поместите его в папку с тетрадкой. Или попробуйте один из следующих вариантов:"
   ]
  },
  {
   "cell_type": "code",
   "execution_count": 4,
   "metadata": {
    "id": "4h4_BaX8hLuw"
   },
   "outputs": [],
   "source": [
    "# !powershell iwr -outf somefile https://somesite/somefile"
   ]
  },
  {
   "cell_type": "code",
   "execution_count": 5,
   "metadata": {
    "id": "7bHroLGChLuw"
   },
   "outputs": [],
   "source": [
    "# !pip install wget\n",
    "# import wget\n",
    "# wget.download('https://dropbox.com/s/f4rm8sjc3v99p0m/_end_seminar.xlsx?dl=1', 'end_seminar.xlsx')"
   ]
  },
  {
   "cell_type": "markdown",
   "metadata": {
    "id": "VFs_6IythLux"
   },
   "source": [
    "##### В первой части задания (до раздела \"Распределение студентов по курсам\") использование циклов запрещается и повлечет за собой снижение оценки. Использование <code>vectorize</code> и  <code>apply</code>, <code>apply_along_axis</code> и всего, где можно применить лямбда-функции (`assign`, `map`, ...) крайне нежелательно"
   ]
  },
  {
   "cell_type": "markdown",
   "metadata": {
    "id": "shFkfJkohLux"
   },
   "source": [
    "Для каждой задачи из этого раздела вы должны написать код для получения ответа, а также дать текстовый ответ, если он предполагается.\n",
    "\n",
    "На некоторые вопросы вы можете получить путём пристального взгляда на таблицу, но это не будет засчитываться. Вы в любом случае должны получить ответ с помощью кода."
   ]
  },
  {
   "cell_type": "markdown",
   "metadata": {
    "id": "gDD85M7bhLux"
   },
   "source": [
    "#### 1. [0.5 баллов] Откройте файл с таблицей (не забудьте про её формат). Выведите 3 последних строки.\n",
    "\n",
    "Посмотрите на данные и скажите, что они из себя представляют, сколько в таблице строк, какие столбцы? (на это не надо отвечать, просто подумайте об этом)"
   ]
  },
  {
   "cell_type": "code",
   "execution_count": 6,
   "metadata": {
    "id": "PKulur3LhLuy"
   },
   "outputs": [
    {
     "data": {
      "text/html": [
       "<div>\n",
       "<style scoped>\n",
       "    .dataframe tbody tr th:only-of-type {\n",
       "        vertical-align: middle;\n",
       "    }\n",
       "\n",
       "    .dataframe tbody tr th {\n",
       "        vertical-align: top;\n",
       "    }\n",
       "\n",
       "    .dataframe thead th {\n",
       "        text-align: right;\n",
       "    }\n",
       "</style>\n",
       "<table border=\"1\" class=\"dataframe\">\n",
       "  <thead>\n",
       "    <tr style=\"text-align: right;\">\n",
       "      <th></th>\n",
       "      <th>timestamp</th>\n",
       "      <th>id</th>\n",
       "      <th>rating</th>\n",
       "      <th>18_group</th>\n",
       "      <th>is_mi</th>\n",
       "      <th>fall_1</th>\n",
       "      <th>fall_2</th>\n",
       "      <th>fall_3</th>\n",
       "      <th>spring_1</th>\n",
       "      <th>spring_2</th>\n",
       "      <th>spring_3</th>\n",
       "      <th>is_first_time</th>\n",
       "      <th>percentile</th>\n",
       "      <th>17_group</th>\n",
       "      <th>blended</th>\n",
       "      <th>is_ml_student</th>\n",
       "    </tr>\n",
       "  </thead>\n",
       "  <tbody>\n",
       "    <tr>\n",
       "      <th>358</th>\n",
       "      <td>2020-05-20 11:54:38.318</td>\n",
       "      <td>d7118b44c7e8fdbbaaca226d2da6fef1</td>\n",
       "      <td>1111</td>\n",
       "      <td>NaN</td>\n",
       "      <td>NaN</td>\n",
       "      <td>Сбор и обработка данных с помощью краудсорсинга</td>\n",
       "      <td>Statistical Learning Theory</td>\n",
       "      <td>Анализ неструктурированных данных</td>\n",
       "      <td>Проектирование и разработка высоконагруженных ...</td>\n",
       "      <td>Методы сжатия и передачи медиаданных</td>\n",
       "      <td>Численные методы</td>\n",
       "      <td>Да</td>\n",
       "      <td>0.652174</td>\n",
       "      <td>173.0</td>\n",
       "      <td>Соревновательный анализ данных</td>\n",
       "      <td>NaN</td>\n",
       "    </tr>\n",
       "    <tr>\n",
       "      <th>359</th>\n",
       "      <td>2020-05-23 21:16:40.916</td>\n",
       "      <td>79d14db48e4737af731960ae212d5134</td>\n",
       "      <td>966</td>\n",
       "      <td>NaN</td>\n",
       "      <td>NaN</td>\n",
       "      <td>Безопасность компьютерных систем</td>\n",
       "      <td>Принятие решений в условиях риска и неопределё...</td>\n",
       "      <td>Анализ неструктурированных данных</td>\n",
       "      <td>Проектирование и разработка высоконагруженных ...</td>\n",
       "      <td>Методы сжатия и передачи медиаданных</td>\n",
       "      <td>Компьютерное зрение</td>\n",
       "      <td>Да</td>\n",
       "      <td>0.985507</td>\n",
       "      <td>172.0</td>\n",
       "      <td>DevOps</td>\n",
       "      <td>NaN</td>\n",
       "    </tr>\n",
       "    <tr>\n",
       "      <th>360</th>\n",
       "      <td>2020-05-23 21:16:40.916</td>\n",
       "      <td>f2d210ace25a841e1e58036b257d5d47</td>\n",
       "      <td>1195</td>\n",
       "      <td>NaN</td>\n",
       "      <td>NaN</td>\n",
       "      <td>Анализ неструктурированных данных</td>\n",
       "      <td>Моделирование временных рядов</td>\n",
       "      <td>Высокопроизводительные вычисления</td>\n",
       "      <td>Обучение с подкреплением</td>\n",
       "      <td>Компьютерное зрение</td>\n",
       "      <td>Методы сжатия и передачи медиаданных</td>\n",
       "      <td>NaN</td>\n",
       "      <td>0.369565</td>\n",
       "      <td>176.0</td>\n",
       "      <td>Соревновательный анализ данных</td>\n",
       "      <td>NaN</td>\n",
       "    </tr>\n",
       "  </tbody>\n",
       "</table>\n",
       "</div>"
      ],
      "text/plain": [
       "                  timestamp                                id  rating  \\\n",
       "358 2020-05-20 11:54:38.318  d7118b44c7e8fdbbaaca226d2da6fef1    1111   \n",
       "359 2020-05-23 21:16:40.916  79d14db48e4737af731960ae212d5134     966   \n",
       "360 2020-05-23 21:16:40.916  f2d210ace25a841e1e58036b257d5d47    1195   \n",
       "\n",
       "     18_group  is_mi                                           fall_1  \\\n",
       "358       NaN    NaN  Сбор и обработка данных с помощью краудсорсинга   \n",
       "359       NaN    NaN                 Безопасность компьютерных систем   \n",
       "360       NaN    NaN                Анализ неструктурированных данных   \n",
       "\n",
       "                                                fall_2  \\\n",
       "358                        Statistical Learning Theory   \n",
       "359  Принятие решений в условиях риска и неопределё...   \n",
       "360                      Моделирование временных рядов   \n",
       "\n",
       "                                fall_3  \\\n",
       "358  Анализ неструктурированных данных   \n",
       "359  Анализ неструктурированных данных   \n",
       "360  Высокопроизводительные вычисления   \n",
       "\n",
       "                                              spring_1  \\\n",
       "358  Проектирование и разработка высоконагруженных ...   \n",
       "359  Проектирование и разработка высоконагруженных ...   \n",
       "360                           Обучение с подкреплением   \n",
       "\n",
       "                                 spring_2  \\\n",
       "358  Методы сжатия и передачи медиаданных   \n",
       "359  Методы сжатия и передачи медиаданных   \n",
       "360                   Компьютерное зрение   \n",
       "\n",
       "                                 spring_3 is_first_time  percentile  17_group  \\\n",
       "358                      Численные методы            Да    0.652174     173.0   \n",
       "359                   Компьютерное зрение            Да    0.985507     172.0   \n",
       "360  Методы сжатия и передачи медиаданных           NaN    0.369565     176.0   \n",
       "\n",
       "                            blended  is_ml_student  \n",
       "358  Соревновательный анализ данных            NaN  \n",
       "359                          DevOps            NaN  \n",
       "360  Соревновательный анализ данных            NaN  "
      ]
     },
     "execution_count": 6,
     "metadata": {},
     "output_type": "execute_result"
    }
   ],
   "source": [
    "df = pd.read_excel('end_seminar.xlsx')\n",
    "df.tail(3)"
   ]
  },
  {
   "cell_type": "code",
   "execution_count": 7,
   "metadata": {},
   "outputs": [
    {
     "data": {
      "text/plain": [
       "(361, 16)"
      ]
     },
     "execution_count": 7,
     "metadata": {},
     "output_type": "execute_result"
    }
   ],
   "source": [
    "df.shape"
   ]
  },
  {
   "cell_type": "markdown",
   "metadata": {
    "id": "P6dOzc7e85Bs"
   },
   "source": [
    "### Ответьте на вопросы:\n",
    "1. Сколько было уникальных пользователей из групп 18-го года набора, а сколько из групп 17-го года?"
   ]
  },
  {
   "cell_type": "code",
   "execution_count": 8,
   "metadata": {
    "id": "ZLBcHvHf890B"
   },
   "outputs": [
    {
     "data": {
      "text/plain": [
       "213"
      ]
     },
     "execution_count": 8,
     "metadata": {},
     "output_type": "execute_result"
    }
   ],
   "source": [
    "# число уникальных пользователей из групп 18-го года\n",
    "\n",
    "df[df['18_group'].isna() == False]['id'].nunique()"
   ]
  },
  {
   "cell_type": "code",
   "execution_count": 9,
   "metadata": {},
   "outputs": [
    {
     "data": {
      "text/plain": [
       "134"
      ]
     },
     "execution_count": 9,
     "metadata": {},
     "output_type": "execute_result"
    }
   ],
   "source": [
    "# число уникальных пользователей из групп 17-го года\n",
    "df[df['17_group'].isna() == False]['id'].nunique()"
   ]
  },
  {
   "cell_type": "markdown",
   "metadata": {
    "id": "dt89P1sG88NN"
   },
   "source": [
    "2. Есть ли уникальные студенты с равными перцентилями?"
   ]
  },
  {
   "cell_type": "code",
   "execution_count": 10,
   "metadata": {
    "id": "NA8Yy9D98-Nv"
   },
   "outputs": [
    {
     "data": {
      "text/html": [
       "<div>\n",
       "<style scoped>\n",
       "    .dataframe tbody tr th:only-of-type {\n",
       "        vertical-align: middle;\n",
       "    }\n",
       "\n",
       "    .dataframe tbody tr th {\n",
       "        vertical-align: top;\n",
       "    }\n",
       "\n",
       "    .dataframe thead th {\n",
       "        text-align: right;\n",
       "    }\n",
       "</style>\n",
       "<table border=\"1\" class=\"dataframe\">\n",
       "  <thead>\n",
       "    <tr style=\"text-align: right;\">\n",
       "      <th></th>\n",
       "      <th>timestamp</th>\n",
       "      <th>id</th>\n",
       "      <th>rating</th>\n",
       "      <th>18_group</th>\n",
       "      <th>is_mi</th>\n",
       "      <th>fall_1</th>\n",
       "      <th>fall_2</th>\n",
       "      <th>fall_3</th>\n",
       "      <th>spring_1</th>\n",
       "      <th>spring_2</th>\n",
       "      <th>spring_3</th>\n",
       "      <th>is_first_time</th>\n",
       "      <th>percentile</th>\n",
       "      <th>17_group</th>\n",
       "      <th>blended</th>\n",
       "      <th>is_ml_student</th>\n",
       "    </tr>\n",
       "  </thead>\n",
       "  <tbody>\n",
       "    <tr>\n",
       "      <th>80</th>\n",
       "      <td>2020-05-18 17:09:23.589</td>\n",
       "      <td>3e106aaef8b24dbb01319c73e14c2936</td>\n",
       "      <td>784</td>\n",
       "      <td>182.0</td>\n",
       "      <td>NaN</td>\n",
       "      <td>Безопасность компьютерных систем</td>\n",
       "      <td>Statistical Learning Theory</td>\n",
       "      <td>Матричные вычисления</td>\n",
       "      <td>Дискретная оптимизация</td>\n",
       "      <td>Промышленное программирование на языке Java</td>\n",
       "      <td>Дополнительные главы прикладной статистики</td>\n",
       "      <td>Да</td>\n",
       "      <td>0.0</td>\n",
       "      <td>NaN</td>\n",
       "      <td>NaN</td>\n",
       "      <td>1.0</td>\n",
       "    </tr>\n",
       "    <tr>\n",
       "      <th>231</th>\n",
       "      <td>2020-05-14 21:52:43.844</td>\n",
       "      <td>3a7326c9e355a67d3805824ca34c4bc5</td>\n",
       "      <td>1457</td>\n",
       "      <td>NaN</td>\n",
       "      <td>NaN</td>\n",
       "      <td>Statistical Learning Theory</td>\n",
       "      <td>Высокопроизводительные вычисления</td>\n",
       "      <td>Statistical Learning Theory</td>\n",
       "      <td>Символьные вычисления</td>\n",
       "      <td>Численные методы</td>\n",
       "      <td>Символьные вычисления</td>\n",
       "      <td>Да</td>\n",
       "      <td>0.0</td>\n",
       "      <td>173.0</td>\n",
       "      <td>Введение в дифференциальную геометрию</td>\n",
       "      <td>NaN</td>\n",
       "    </tr>\n",
       "  </tbody>\n",
       "</table>\n",
       "</div>"
      ],
      "text/plain": [
       "                  timestamp                                id  rating  \\\n",
       "80  2020-05-18 17:09:23.589  3e106aaef8b24dbb01319c73e14c2936     784   \n",
       "231 2020-05-14 21:52:43.844  3a7326c9e355a67d3805824ca34c4bc5    1457   \n",
       "\n",
       "     18_group  is_mi                            fall_1  \\\n",
       "80      182.0    NaN  Безопасность компьютерных систем   \n",
       "231       NaN    NaN       Statistical Learning Theory   \n",
       "\n",
       "                                fall_2                       fall_3  \\\n",
       "80         Statistical Learning Theory         Матричные вычисления   \n",
       "231  Высокопроизводительные вычисления  Statistical Learning Theory   \n",
       "\n",
       "                   spring_1                                     spring_2  \\\n",
       "80   Дискретная оптимизация  Промышленное программирование на языке Java   \n",
       "231   Символьные вычисления                             Численные методы   \n",
       "\n",
       "                                       spring_3 is_first_time  percentile  \\\n",
       "80   Дополнительные главы прикладной статистики            Да         0.0   \n",
       "231                       Символьные вычисления            Да         0.0   \n",
       "\n",
       "     17_group                                blended  is_ml_student  \n",
       "80        NaN                                    NaN            1.0  \n",
       "231     173.0  Введение в дифференциальную геометрию            NaN  "
      ]
     },
     "execution_count": 10,
     "metadata": {},
     "output_type": "execute_result"
    }
   ],
   "source": [
    "mask = df[df['id'].duplicated() == False]['percentile'].duplicated(keep = False)\n",
    "df[df['id'].duplicated() == False][mask]"
   ]
  },
  {
   "cell_type": "markdown",
   "metadata": {},
   "source": [
    "Немного страшный код, но здесь мы сначала оставили только уникальных студентов и дальше среди них посмотрели есть ли повторяющиеся перцентили. И мы видим, что есть два студента с одинаковым перцентилем, равным 0. Видимо, это студенты, которые были на 1 месте в рейтинге 3 и 4 курса."
   ]
  },
  {
   "cell_type": "markdown",
   "metadata": {
    "id": "jPiMwyqHhLuy"
   },
   "source": [
    "#### 2. [0.5 балла] Есть ли в данных пропуски? В каких колонках? Сколько их в каждой из этих колонок?"
   ]
  },
  {
   "cell_type": "code",
   "execution_count": 11,
   "metadata": {
    "id": "edY1RrSOhLuy"
   },
   "outputs": [
    {
     "data": {
      "text/plain": [
       "timestamp          0\n",
       "id                 0\n",
       "rating             0\n",
       "18_group         138\n",
       "is_mi            343\n",
       "fall_1             0\n",
       "fall_2             0\n",
       "fall_3             0\n",
       "spring_1           0\n",
       "spring_2           0\n",
       "spring_3           0\n",
       "is_first_time      2\n",
       "percentile         0\n",
       "17_group         223\n",
       "blended          223\n",
       "is_ml_student    304\n",
       "dtype: int64"
      ]
     },
     "execution_count": 11,
     "metadata": {},
     "output_type": "execute_result"
    }
   ],
   "source": [
    "df.isna().sum()"
   ]
  },
  {
   "cell_type": "markdown",
   "metadata": {},
   "source": [
    "Тут мы видим, в каких колонках есть пропуски и сколько их там"
   ]
  },
  {
   "cell_type": "markdown",
   "metadata": {
    "id": "B5ORhP2uhLuz"
   },
   "source": [
    "Заполните пропуски пустой строкой для строковых колонок, нулём для числовых и False для булевых (постарайтесь избежать перечисления названий всех столбцов)."
   ]
  },
  {
   "cell_type": "code",
   "execution_count": 12,
   "metadata": {
    "id": "TlF_JJ2ghLuz"
   },
   "outputs": [
    {
     "name": "stdout",
     "output_type": "stream",
     "text": [
      "<class 'pandas.core.frame.DataFrame'>\n",
      "RangeIndex: 361 entries, 0 to 360\n",
      "Data columns (total 16 columns):\n",
      " #   Column         Non-Null Count  Dtype         \n",
      "---  ------         --------------  -----         \n",
      " 0   timestamp      361 non-null    datetime64[ns]\n",
      " 1   id             361 non-null    object        \n",
      " 2   rating         361 non-null    int64         \n",
      " 3   18_group       223 non-null    float64       \n",
      " 4   is_mi          18 non-null     float64       \n",
      " 5   fall_1         361 non-null    object        \n",
      " 6   fall_2         361 non-null    object        \n",
      " 7   fall_3         361 non-null    object        \n",
      " 8   spring_1       361 non-null    object        \n",
      " 9   spring_2       361 non-null    object        \n",
      " 10  spring_3       361 non-null    object        \n",
      " 11  is_first_time  359 non-null    object        \n",
      " 12  percentile     361 non-null    float64       \n",
      " 13  17_group       138 non-null    float64       \n",
      " 14  blended        138 non-null    object        \n",
      " 15  is_ml_student  57 non-null     float64       \n",
      "dtypes: datetime64[ns](1), float64(5), int64(1), object(9)\n",
      "memory usage: 45.2+ KB\n"
     ]
    }
   ],
   "source": [
    "df.info() # здесь можно посмотреть на типы всех переменных"
   ]
  },
  {
   "cell_type": "code",
   "execution_count": 13,
   "metadata": {},
   "outputs": [
    {
     "data": {
      "text/html": [
       "<div>\n",
       "<style scoped>\n",
       "    .dataframe tbody tr th:only-of-type {\n",
       "        vertical-align: middle;\n",
       "    }\n",
       "\n",
       "    .dataframe tbody tr th {\n",
       "        vertical-align: top;\n",
       "    }\n",
       "\n",
       "    .dataframe thead th {\n",
       "        text-align: right;\n",
       "    }\n",
       "</style>\n",
       "<table border=\"1\" class=\"dataframe\">\n",
       "  <thead>\n",
       "    <tr style=\"text-align: right;\">\n",
       "      <th></th>\n",
       "      <th>timestamp</th>\n",
       "      <th>id</th>\n",
       "      <th>rating</th>\n",
       "      <th>18_group</th>\n",
       "      <th>is_mi</th>\n",
       "      <th>fall_1</th>\n",
       "      <th>fall_2</th>\n",
       "      <th>fall_3</th>\n",
       "      <th>spring_1</th>\n",
       "      <th>spring_2</th>\n",
       "      <th>spring_3</th>\n",
       "      <th>is_first_time</th>\n",
       "      <th>percentile</th>\n",
       "      <th>17_group</th>\n",
       "      <th>blended</th>\n",
       "      <th>is_ml_student</th>\n",
       "    </tr>\n",
       "  </thead>\n",
       "  <tbody>\n",
       "    <tr>\n",
       "      <th>0</th>\n",
       "      <td>2020-05-15 01:12:50.543</td>\n",
       "      <td>93ff79a51cd602f1dd3028ba2c129503</td>\n",
       "      <td>698</td>\n",
       "      <td>181.0</td>\n",
       "      <td>0.0</td>\n",
       "      <td>Язык SQL</td>\n",
       "      <td>Высокопроизводительные вычисления</td>\n",
       "      <td>Матричные вычисления</td>\n",
       "      <td>Дискретная оптимизация</td>\n",
       "      <td>Численные методы</td>\n",
       "      <td>Машинное обучение 2</td>\n",
       "      <td>Да</td>\n",
       "      <td>0.183857</td>\n",
       "      <td>0.0</td>\n",
       "      <td></td>\n",
       "      <td>0.0</td>\n",
       "    </tr>\n",
       "    <tr>\n",
       "      <th>1</th>\n",
       "      <td>2020-05-15 02:46:48.066</td>\n",
       "      <td>26b01b1c4cd5656bab18d24c548834fb</td>\n",
       "      <td>647</td>\n",
       "      <td>181.0</td>\n",
       "      <td>0.0</td>\n",
       "      <td>Высокопроизводительные вычисления</td>\n",
       "      <td>Безопасность компьютерных систем</td>\n",
       "      <td>Язык SQL</td>\n",
       "      <td>Дискретная оптимизация</td>\n",
       "      <td>Численные методы</td>\n",
       "      <td>Машинное обучение 2</td>\n",
       "      <td>Нет</td>\n",
       "      <td>0.426009</td>\n",
       "      <td>0.0</td>\n",
       "      <td></td>\n",
       "      <td>0.0</td>\n",
       "    </tr>\n",
       "    <tr>\n",
       "      <th>2</th>\n",
       "      <td>2020-05-15 03:12:41.480</td>\n",
       "      <td>30f3653fc176d54e89ac3179c455c6dd</td>\n",
       "      <td>624</td>\n",
       "      <td>185.0</td>\n",
       "      <td>0.0</td>\n",
       "      <td>Безопасность компьютерных систем</td>\n",
       "      <td>Матричные вычисления</td>\n",
       "      <td>Моделирование временных рядов</td>\n",
       "      <td>Дискретная оптимизация</td>\n",
       "      <td>Машинное обучение 2</td>\n",
       "      <td>Численные методы</td>\n",
       "      <td>Да</td>\n",
       "      <td>0.538117</td>\n",
       "      <td>0.0</td>\n",
       "      <td></td>\n",
       "      <td>0.0</td>\n",
       "    </tr>\n",
       "    <tr>\n",
       "      <th>3</th>\n",
       "      <td>2020-05-15 04:43:08.994</td>\n",
       "      <td>1528f0eaa027580820ccf0d92a53ad68</td>\n",
       "      <td>579</td>\n",
       "      <td>182.0</td>\n",
       "      <td>0.0</td>\n",
       "      <td>Statistical Learning Theory</td>\n",
       "      <td>Высокопроизводительные вычисления</td>\n",
       "      <td>Матричные вычисления</td>\n",
       "      <td>Дискретная оптимизация</td>\n",
       "      <td>Численные методы</td>\n",
       "      <td>Машинное обучение 2</td>\n",
       "      <td>Да</td>\n",
       "      <td>0.744395</td>\n",
       "      <td>0.0</td>\n",
       "      <td></td>\n",
       "      <td>0.0</td>\n",
       "    </tr>\n",
       "    <tr>\n",
       "      <th>4</th>\n",
       "      <td>2020-05-15 07:47:17.197</td>\n",
       "      <td>496ea4f0d4abe264b1bb1b80eb3830c5</td>\n",
       "      <td>572</td>\n",
       "      <td>183.0</td>\n",
       "      <td>0.0</td>\n",
       "      <td>Высокопроизводительные вычисления</td>\n",
       "      <td>Безопасность компьютерных систем</td>\n",
       "      <td>Теория баз данных</td>\n",
       "      <td>Компьютерные сети</td>\n",
       "      <td>Дискретная оптимизация</td>\n",
       "      <td>Численные методы</td>\n",
       "      <td>Да</td>\n",
       "      <td>0.780269</td>\n",
       "      <td>0.0</td>\n",
       "      <td></td>\n",
       "      <td>0.0</td>\n",
       "    </tr>\n",
       "  </tbody>\n",
       "</table>\n",
       "</div>"
      ],
      "text/plain": [
       "                timestamp                                id  rating  18_group  \\\n",
       "0 2020-05-15 01:12:50.543  93ff79a51cd602f1dd3028ba2c129503     698     181.0   \n",
       "1 2020-05-15 02:46:48.066  26b01b1c4cd5656bab18d24c548834fb     647     181.0   \n",
       "2 2020-05-15 03:12:41.480  30f3653fc176d54e89ac3179c455c6dd     624     185.0   \n",
       "3 2020-05-15 04:43:08.994  1528f0eaa027580820ccf0d92a53ad68     579     182.0   \n",
       "4 2020-05-15 07:47:17.197  496ea4f0d4abe264b1bb1b80eb3830c5     572     183.0   \n",
       "\n",
       "   is_mi                             fall_1  \\\n",
       "0    0.0                           Язык SQL   \n",
       "1    0.0  Высокопроизводительные вычисления   \n",
       "2    0.0   Безопасность компьютерных систем   \n",
       "3    0.0        Statistical Learning Theory   \n",
       "4    0.0  Высокопроизводительные вычисления   \n",
       "\n",
       "                              fall_2                         fall_3  \\\n",
       "0  Высокопроизводительные вычисления           Матричные вычисления   \n",
       "1   Безопасность компьютерных систем                       Язык SQL   \n",
       "2               Матричные вычисления  Моделирование временных рядов   \n",
       "3  Высокопроизводительные вычисления           Матричные вычисления   \n",
       "4   Безопасность компьютерных систем              Теория баз данных   \n",
       "\n",
       "                 spring_1                spring_2             spring_3  \\\n",
       "0  Дискретная оптимизация        Численные методы  Машинное обучение 2   \n",
       "1  Дискретная оптимизация        Численные методы  Машинное обучение 2   \n",
       "2  Дискретная оптимизация     Машинное обучение 2     Численные методы   \n",
       "3  Дискретная оптимизация        Численные методы  Машинное обучение 2   \n",
       "4       Компьютерные сети  Дискретная оптимизация     Численные методы   \n",
       "\n",
       "  is_first_time  percentile  17_group blended  is_ml_student  \n",
       "0            Да    0.183857       0.0                    0.0  \n",
       "1           Нет    0.426009       0.0                    0.0  \n",
       "2            Да    0.538117       0.0                    0.0  \n",
       "3            Да    0.744395       0.0                    0.0  \n",
       "4            Да    0.780269       0.0                    0.0  "
      ]
     },
     "execution_count": 13,
     "metadata": {},
     "output_type": "execute_result"
    }
   ],
   "source": [
    "vars_str = df.select_dtypes('object').columns # строковые переменные\n",
    "vars_num = df.select_dtypes('float64').columns # числовые переменные (сюда же входят и булевы)\n",
    "\n",
    "df[vars_str] = df[vars_str].fillna('')\n",
    "df[vars_num] = df[vars_num].fillna(0)\n",
    "df.head()"
   ]
  },
  {
   "cell_type": "markdown",
   "metadata": {
    "id": "w5ELhkT1hLuz"
   },
   "source": [
    "#### 3. [0.5 балла] Посмотрите повнимательнее на колонку 'is_first_time'.\n",
    "\n",
    "Каково процентное соотношение ответов? Сколько из них \"Нет\"?"
   ]
  },
  {
   "cell_type": "code",
   "execution_count": 14,
   "metadata": {
    "id": "VEfiNsyQhLuz"
   },
   "outputs": [
    {
     "data": {
      "text/plain": [
       "Да     308\n",
       "Нет     51\n",
       "         2\n",
       "Name: is_first_time, dtype: int64"
      ]
     },
     "execution_count": 14,
     "metadata": {},
     "output_type": "execute_result"
    }
   ],
   "source": [
    "df['is_first_time'].value_counts()"
   ]
  },
  {
   "cell_type": "code",
   "execution_count": 15,
   "metadata": {},
   "outputs": [
    {
     "data": {
      "text/plain": [
       "0.853185595567867"
      ]
     },
     "execution_count": 15,
     "metadata": {},
     "output_type": "execute_result"
    }
   ],
   "source": [
    "308 / 361 # доля ответов \"да\""
   ]
  },
  {
   "cell_type": "code",
   "execution_count": 16,
   "metadata": {},
   "outputs": [
    {
     "data": {
      "text/plain": [
       "0.14127423822714683"
      ]
     },
     "execution_count": 16,
     "metadata": {},
     "output_type": "execute_result"
    }
   ],
   "source": [
    "51 / 361 # доля ответов \"нет\""
   ]
  },
  {
   "cell_type": "markdown",
   "metadata": {},
   "source": [
    "Всего 51 ответ \"нет\". Два студента вообще не указали, заполняют ли они форму в первый раз"
   ]
  },
  {
   "cell_type": "markdown",
   "metadata": {
    "id": "7ufxpSDO9Hyc"
   },
   "source": [
    "Если вы найдете повторные обращения студентов, оставьте только самую позднюю версию. В дальнейших заданиях используйте версию данных без повторов.\n",
    "\n",
    "<i>Обращения со значением \"Нет\" в 'is_first_time' могут быть как повторными, так и первичными, поскольку поле заполняли сами студенты.</i>"
   ]
  },
  {
   "cell_type": "code",
   "execution_count": 17,
   "metadata": {
    "id": "M0Wx60oU9IkX"
   },
   "outputs": [],
   "source": [
    "df = df.sort_values('timestamp') # отсортировали по времени\n",
    "is_duplicate = df['id'].duplicated(keep = 'last') \n",
    "df = df[is_duplicate == False]"
   ]
  },
  {
   "cell_type": "markdown",
   "metadata": {
    "id": "IlzHp3HVhLuz"
   },
   "source": [
    "#### 4. [0.5 балла] Какие  blended-курсы для четверокурсников существуют? На какой blended-курс записалось наибольшее количество студентов? На каком из blended-курсов собрались студенты с самым высоким средним рейтингом (выведите этот курс и количество студентов на нем)?"
   ]
  },
  {
   "cell_type": "code",
   "execution_count": 18,
   "metadata": {
    "id": "bsn4vn8RhLuy"
   },
   "outputs": [
    {
     "data": {
      "text/plain": [
       "                                         213\n",
       "DevOps                                    87\n",
       "Соревновательный анализ данных            32\n",
       "Введение в дифференциальную геометрию     15\n",
       "Name: blended, dtype: int64"
      ]
     },
     "execution_count": 18,
     "metadata": {},
     "output_type": "execute_result"
    }
   ],
   "source": [
    "df['blended'].value_counts()"
   ]
  },
  {
   "cell_type": "markdown",
   "metadata": {},
   "source": [
    "Тут можно посмотреть, какие есть blended-курсы для 4 курса. Большинство четверокурсников записались на DevOps. "
   ]
  },
  {
   "cell_type": "code",
   "execution_count": 19,
   "metadata": {},
   "outputs": [
    {
     "name": "stdout",
     "output_type": "stream",
     "text": [
      "Курс с максимальным средним рейтингом студентов: Введение в дифференциальную геометрию\n",
      "Число студентов на этом курсе: 15\n"
     ]
    }
   ],
   "source": [
    "mini_df = df.groupby('blended', as_index=False)['rating'].mean() # датасетик со средним рейтингом на blended-курсах\n",
    "max_idx = mini_df['rating'].argmax()\n",
    "course = mini_df.loc[max_idx]['blended'] # нашли курс с макс. средним рейтингом\n",
    "num_students = (df['blended'] == course).sum() # число студентов на нем\n",
    "\n",
    "print(f'Курс с максимальным средним рейтингом студентов: {course}')\n",
    "print(f'Число студентов на этом курсе: {num_students}')"
   ]
  },
  {
   "cell_type": "markdown",
   "metadata": {
    "id": "IU_FLt8HhLu0"
   },
   "source": [
    "#### 5. [1 балл] Выясните, есть ли студенты с абсолютно одинаковыми предпочтениями по всем курсам.\n",
    "\n",
    "Для этого сформируйте таблицу, где для каждого возможного набора курсов посчитано количество студентов, выбравших такой набор, и оставьте только строки где это количество больше 1.\n",
    "\n",
    "В данном случае набор курсов задается упорядоченным множеством ('fall_1', 'fall_2', 'fall_3', 'spring_1', 'spring_2', 'spring_3', 'blended'). Элемент blended будет нулевым для 3-го курса."
   ]
  },
  {
   "cell_type": "code",
   "execution_count": 50,
   "metadata": {},
   "outputs": [
    {
     "data": {
      "text/html": [
       "<div>\n",
       "<style scoped>\n",
       "    .dataframe tbody tr th:only-of-type {\n",
       "        vertical-align: middle;\n",
       "    }\n",
       "\n",
       "    .dataframe tbody tr th {\n",
       "        vertical-align: top;\n",
       "    }\n",
       "\n",
       "    .dataframe thead th {\n",
       "        text-align: right;\n",
       "    }\n",
       "</style>\n",
       "<table border=\"1\" class=\"dataframe\">\n",
       "  <thead>\n",
       "    <tr style=\"text-align: right;\">\n",
       "      <th></th>\n",
       "      <th>fall_1</th>\n",
       "      <th>fall_2</th>\n",
       "      <th>fall_3</th>\n",
       "      <th>spring_1</th>\n",
       "      <th>spring_2</th>\n",
       "      <th>spring_3</th>\n",
       "      <th>blended</th>\n",
       "      <th>size</th>\n",
       "    </tr>\n",
       "  </thead>\n",
       "  <tbody>\n",
       "    <tr>\n",
       "      <th>0</th>\n",
       "      <td>Statistical Learning Theory</td>\n",
       "      <td>Анализ неструктурированных данных</td>\n",
       "      <td>Сбор и обработка данных с помощью краудсорсинга</td>\n",
       "      <td>Обучение с подкреплением</td>\n",
       "      <td>Конфликты и кооперация</td>\n",
       "      <td>Компьютерное зрение</td>\n",
       "      <td>DevOps</td>\n",
       "      <td>2</td>\n",
       "    </tr>\n",
       "    <tr>\n",
       "      <th>1</th>\n",
       "      <td>Statistical Learning Theory</td>\n",
       "      <td>Анализ неструктурированных данных</td>\n",
       "      <td>Сбор и обработка данных с помощью краудсорсинга</td>\n",
       "      <td>Обучение с подкреплением</td>\n",
       "      <td>Конфликты и кооперация</td>\n",
       "      <td>Компьютерное зрение</td>\n",
       "      <td>Соревновательный анализ данных</td>\n",
       "      <td>1</td>\n",
       "    </tr>\n",
       "    <tr>\n",
       "      <th>2</th>\n",
       "      <td>Statistical Learning Theory</td>\n",
       "      <td>Байесовские методы машинного обучения</td>\n",
       "      <td>Безопасность компьютерных систем</td>\n",
       "      <td>Проектирование и разработка высоконагруженных ...</td>\n",
       "      <td>Компьютерное зрение</td>\n",
       "      <td>Символьные вычисления</td>\n",
       "      <td>Введение в дифференциальную геометрию</td>\n",
       "      <td>1</td>\n",
       "    </tr>\n",
       "    <tr>\n",
       "      <th>3</th>\n",
       "      <td>Statistical Learning Theory</td>\n",
       "      <td>Байесовские методы машинного обучения</td>\n",
       "      <td>Высокопроизводительные вычисления</td>\n",
       "      <td>Символьные вычисления</td>\n",
       "      <td>Компьютерное зрение</td>\n",
       "      <td>Проектирование и разработка высоконагруженных ...</td>\n",
       "      <td>Введение в дифференциальную геометрию</td>\n",
       "      <td>1</td>\n",
       "    </tr>\n",
       "    <tr>\n",
       "      <th>4</th>\n",
       "      <td>Statistical Learning Theory</td>\n",
       "      <td>Байесовские методы машинного обучения</td>\n",
       "      <td>Моделирование временных рядов</td>\n",
       "      <td>Символьные вычисления</td>\n",
       "      <td>Компьютерное зрение</td>\n",
       "      <td>Конфликты и кооперация</td>\n",
       "      <td>Введение в дифференциальную геометрию</td>\n",
       "      <td>1</td>\n",
       "    </tr>\n",
       "  </tbody>\n",
       "</table>\n",
       "</div>"
      ],
      "text/plain": [
       "                        fall_1                                 fall_2  \\\n",
       "0  Statistical Learning Theory      Анализ неструктурированных данных   \n",
       "1  Statistical Learning Theory      Анализ неструктурированных данных   \n",
       "2  Statistical Learning Theory  Байесовские методы машинного обучения   \n",
       "3  Statistical Learning Theory  Байесовские методы машинного обучения   \n",
       "4  Statistical Learning Theory  Байесовские методы машинного обучения   \n",
       "\n",
       "                                            fall_3  \\\n",
       "0  Сбор и обработка данных с помощью краудсорсинга   \n",
       "1  Сбор и обработка данных с помощью краудсорсинга   \n",
       "2                 Безопасность компьютерных систем   \n",
       "3                Высокопроизводительные вычисления   \n",
       "4                    Моделирование временных рядов   \n",
       "\n",
       "                                            spring_1                spring_2  \\\n",
       "0                           Обучение с подкреплением  Конфликты и кооперация   \n",
       "1                           Обучение с подкреплением  Конфликты и кооперация   \n",
       "2  Проектирование и разработка высоконагруженных ...     Компьютерное зрение   \n",
       "3                              Символьные вычисления     Компьютерное зрение   \n",
       "4                              Символьные вычисления     Компьютерное зрение   \n",
       "\n",
       "                                            spring_3  \\\n",
       "0                                Компьютерное зрение   \n",
       "1                                Компьютерное зрение   \n",
       "2                              Символьные вычисления   \n",
       "3  Проектирование и разработка высоконагруженных ...   \n",
       "4                             Конфликты и кооперация   \n",
       "\n",
       "                                 blended  size  \n",
       "0                                 DevOps     2  \n",
       "1         Соревновательный анализ данных     1  \n",
       "2  Введение в дифференциальную геометрию     1  \n",
       "3  Введение в дифференциальную геометрию     1  \n",
       "4  Введение в дифференциальную геометрию     1  "
      ]
     },
     "execution_count": 50,
     "metadata": {},
     "output_type": "execute_result"
    }
   ],
   "source": [
    "# prefs - это набор признаков, которые содержат предпочтения каждого студента\n",
    "prefs = ['fall_1', 'fall_2', 'fall_3', 'spring_1', 'spring_2', 'spring_3', 'blended']\n",
    "\n",
    "# таблица со всевозможными комбинациями курсов и числом людей на них\n",
    "table = df.groupby(prefs, as_index = False).size() \n",
    "table.head()\n",
    "\n",
    "# идею с groupby(...).size немножечко позаимствовал тут:\n",
    "# https://stackoverflow.com/questions/35584085/how-to-count-duplicate-rows-in-pandas-dataframe"
   ]
  },
  {
   "cell_type": "code",
   "execution_count": 21,
   "metadata": {},
   "outputs": [
    {
     "data": {
      "text/plain": [
       "32"
      ]
     },
     "execution_count": 21,
     "metadata": {},
     "output_type": "execute_result"
    }
   ],
   "source": [
    "table[table['size'] > 1]['size'].sum()"
   ]
  },
  {
   "cell_type": "markdown",
   "metadata": {},
   "source": [
    "Получается, что всего 32 студента с абсолютно одинаковыми предпочтениями (Но не у всех одинаковый набор, а для каждого из них найдется хотя бы один чел с таким же набором)"
   ]
  },
  {
   "cell_type": "markdown",
   "metadata": {
    "id": "spu3r3vchLu0"
   },
   "source": [
    "#### 6. [0.5 балла] Найдите курсы по выбору, на которые записывались как студенты 18-го года набора, так и студенты 17-го года."
   ]
  },
  {
   "cell_type": "code",
   "execution_count": 22,
   "metadata": {
    "id": "t21fWi8ShLu0"
   },
   "outputs": [
    {
     "data": {
      "text/plain": [
       "{'Statistical Learning Theory',\n",
       " 'Безопасность компьютерных систем',\n",
       " 'Высокопроизводительные вычисления',\n",
       " 'Моделирование временных рядов',\n",
       " 'Принятие решений в условиях риска и неопределённости',\n",
       " 'Сбор и обработка данных с помощью краудсорсинга',\n",
       " 'Численные методы'}"
      ]
     },
     "execution_count": 22,
     "metadata": {},
     "output_type": "execute_result"
    }
   ],
   "source": [
    "kpv = ['fall_1', 'fall_2', 'fall_3', 'spring_1', 'spring_2', 'spring_3']\n",
    "\n",
    "# находим курсы на которые записывались студенты сначала для 17, потом для 18 года набора\n",
    "courses_17 = set(df[df['17_group'] > 0][kpv].values.reshape(1, -1)[0])\n",
    "courses_18 = set(df[df['18_group'] > 0][kpv].values.reshape(1, -1)[0])\n",
    "\n",
    "# пересекаем эти множества, чтобы найти ответ на вопрос\n",
    "courses_17 & courses_18"
   ]
  },
  {
   "cell_type": "markdown",
   "metadata": {
    "id": "PYfX-Dr5hLu0"
   },
   "source": [
    "Методом исключения найдите курсы, которые предлагались только студентам 18-го года и только студентам 17-го года."
   ]
  },
  {
   "cell_type": "code",
   "execution_count": 23,
   "metadata": {
    "id": "G9SWBOpehLu1"
   },
   "outputs": [
    {
     "data": {
      "text/plain": [
       "{'Анализ данных в бизнесе',\n",
       " 'Дискретная оптимизация',\n",
       " 'Дополнительные главы прикладной статистики',\n",
       " 'Компьютерные сети',\n",
       " 'Матричные вычисления',\n",
       " 'Машинное обучение 2',\n",
       " 'Промышленное программирование на языке Java',\n",
       " 'Системы баз данных',\n",
       " 'Теория баз данных',\n",
       " 'Язык SQL'}"
      ]
     },
     "execution_count": 23,
     "metadata": {},
     "output_type": "execute_result"
    }
   ],
   "source": [
    "# найдем курсы, которые предлагались только студентам 18-го года\n",
    "courses_18 - courses_17"
   ]
  },
  {
   "cell_type": "code",
   "execution_count": 24,
   "metadata": {},
   "outputs": [
    {
     "data": {
      "text/plain": [
       "{'Анализ неструктурированных данных',\n",
       " 'Байесовские методы машинного обучения',\n",
       " 'Генеративные модели в машинном обучении',\n",
       " 'Глубинное обучение в обработке звука',\n",
       " 'Компьютерное зрение',\n",
       " 'Конфликты и кооперация',\n",
       " 'Методы сжатия и передачи медиаданных',\n",
       " 'Обучение с подкреплением',\n",
       " 'Проектирование и разработка высоконагруженных сервисов',\n",
       " 'Символьные вычисления'}"
      ]
     },
     "execution_count": 24,
     "metadata": {},
     "output_type": "execute_result"
    }
   ],
   "source": [
    "# а теперь только студентам 17-го года\n",
    "courses_17 - courses_18"
   ]
  },
  {
   "cell_type": "markdown",
   "metadata": {
    "id": "uL45Tg5fhLu1"
   },
   "source": [
    "### Визуализации и matplotlib"
   ]
  },
  {
   "cell_type": "markdown",
   "metadata": {
    "id": "MY9lKmP2hLu1"
   },
   "source": [
    "При работе с данными часто неудобно делать какие-то выводы, если смотреть на таблицу и числа в частности, поэтому важно уметь визуализировать данные. Здесь будут описаны ключевые правила оформления графиков для **всех** домашних заданий.\n",
    "\n",
    "У matplotlib, конечно же, есть [документация](https://matplotlib.org/users/index.html) с большим количеством [примеров](https://matplotlib.org/examples/), но для начала достаточно знать про несколько основных типов графиков:\n",
    "- plot — обычный поточечный график, которым можно изображать кривые или отдельные точки;\n",
    "- hist — гистограмма, показывающая распределение некоторой величины;\n",
    "- scatter — график, показывающий взаимосвязь двух величин;\n",
    "- bar — столбцовый график, показывающий взаимосвязь количественной величины от категориальной.\n",
    "\n",
    "В этом задании вы попробуете построить один из них. Не забывайте про базовые принципы построения приличных графиков:\n",
    "- оси должны быть подписаны, причём не слишком мелко;\n",
    "- у графика должно быть название;\n",
    "- если изображено несколько графиков, то необходима поясняющая легенда;\n",
    "- все линии на графиках должны быть чётко видны (нет похожих цветов или цветов, сливающихся с фоном);\n",
    "- если отображена величина, имеющая очевидный диапазон значений (например, проценты могут быть от 0 до 100), то желательно масштабировать ось на весь диапазон значений (исключением является случай, когда вам необходимо показать малое отличие, которое незаметно в таких масштабах);\n",
    "- сетка на графике помогает оценить значения в точках на глаз, это обычно полезно, поэтому лучше ее отрисовывать;\n",
    "- если распределение на гистограмме имеет тяжёлые хвосты, лучше использовать логарифмическую шкалу.\n",
    "\n",
    "Еще одна билиотека для визуализации: [seaborn](https://jakevdp.github.io/PythonDataScienceHandbook/04.14-visualization-with-seaborn.html) (обычно сокращается до sns). Это настройка над matplotlib, иногда удобнее и красивее делать визуализации через неё.\n",
    "\n",
    "**5 пунктов после которых ваши графики не будут прежними:**\n",
    "- для красивой картинки <code>%config InlineBackend.figure_format = 'retina'</code>\n",
    "- задаем размер (почти) всех графиков (можно выбрать другие значения) <code>plt.rcParams['figure.figsize'] = 8, 5</code>\n",
    "- размер шрифта подписей графиков <code>plt.rcParams['font.size'] = 12</code>\n",
    "- формат в котором сохраняется изображение <code>mpl.rcParams['savefig.format'] = 'pdf'</code>\n",
    "- sns – seaborn, добавляет решетку <code>sns.set_style('darkgrid')</code>\n",
    "\n",
    "Добавьте эти функции в ячейку ниже. Каждый график все равно придется настраивать отдельно, но указанные строчки позволят значительно упростить процесс.  "
   ]
  },
  {
   "cell_type": "code",
   "execution_count": 25,
   "metadata": {
    "id": "na9doUOFhLu1"
   },
   "outputs": [],
   "source": [
    "%matplotlib inline\n",
    "import matplotlib.pyplot as plt\n",
    "import seaborn as sns\n",
    "%config InlineBackend.figure_format = 'retina'\n",
    "plt.rcParams['figure.figsize'] = 8, 5\n",
    "plt.rcParams['font.size'] = 12\n",
    "mpl.rcParams['savefig.format'] = 'pdf'\n",
    "sns.set_style('darkgrid')\n",
    "# your code"
   ]
  },
  {
   "cell_type": "markdown",
   "metadata": {
    "id": "kikwLpxfhLu1"
   },
   "source": [
    "#### 7. [0.5 балла] Постройте график средних рейтингов по дням получения ответов (bar plot)."
   ]
  },
  {
   "cell_type": "code",
   "execution_count": 26,
   "metadata": {},
   "outputs": [
    {
     "data": {
      "image/png": "[encoded data removed]",
      "text/plain": [
       "<Figure size 792x504 with 1 Axes>"
      ]
     },
     "metadata": {
      "image/png": {
       "height": 446,
       "width": 683
      }
     },
     "output_type": "display_data"
    }
   ],
   "source": [
    "# считаем средний рейтинг студентов для каждого дня\n",
    "rating_avg = df.groupby(df['timestamp'].dt.day)['rating'].mean()\n",
    "\n",
    "rating_avg.plot(kind = 'bar',\n",
    "                title = 'Столбчатая диаграмма средних рейтингов студентов в зависимости от дня получения ответа',\n",
    "                xlabel = 'Число, в которое был получен ответ',\n",
    "                ylabel = 'Средний рейтинг студентов', \n",
    "                figsize = (11, 7));\n",
    "\n",
    "plt.savefig('График.pdf', format='pdf') # сразу сохранили в пдф, как просят ниже"
   ]
  },
  {
   "cell_type": "markdown",
   "metadata": {
    "id": "AmsQg9_xhLu2"
   },
   "source": [
    "Сохраните график в формате pdf (так он останется векторизованным)."
   ]
  },
  {
   "cell_type": "markdown",
   "metadata": {
    "id": "sCgWwjl0hLu2"
   },
   "source": [
    "### 2. Распределение студентов по курсам."
   ]
  },
  {
   "cell_type": "markdown",
   "metadata": {
    "id": "6rjOnzRN8A8l"
   },
   "source": [
    "<span style=\"color:red\">!!!ВНИМАТЕЛЬНО ИЗУЧИТЕ ТЕКСТ НИЖЕ!!!</span>.\n",
    "\n",
    "<span style=\"color:orange\">Если во время выполнения заданий у вас вознинут вопросы -- еще раз перечитайте текст целиком, скорее всего ответы уже содержатся в нем.</span>"
   ]
  },
  {
   "cell_type": "markdown",
   "metadata": {
    "id": "VNqXUpr4hLu3"
   },
   "source": [
    "Теперь вам нужно распределить студентов по осенним курсам по выбору, учитывая их предпочтения."
   ]
  },
  {
   "cell_type": "markdown",
   "metadata": {
    "id": "5cAR2FgphLu3"
   },
   "source": [
    "## 📌 **Алгоритм распределения студентов по курсам**:\n",
    "1. По умолчанию на каждой дисциплине по выбору у 3 и 4 курсов может учиться 1 группа (до 30 студентов). Исключения описаны ниже. На blended-дисциплинах для четверокурсников количество мест не ограничено.\n",
    "2. Проводится первая волна отбора. Для каждой дисциплины формируется список тех, кто указал её первым приоритетом (если студент должен выбрать два курса по выбору, то для него дисциплины, которые он указал первым и вторым приоритетом, рассматриваются как дисциплины первого приоритета). Если желающих больше, чем мест, то выбирается топ по перцентилю рейтинга.\n",
    "3. На дисциплинах, где остались места после первой волны, формируются списки тех, кто выбрал их вторым приоритетом, и места заполняются лучшими по перцентили рейтинга студентами. После этого проводится такая же процедура для дисциплин третьего приоритета.\n",
    "4. Если студент не попал на необходимое количество курсов по итогам трёх волн, с ним связывается учебный офис и решает вопрос в индивидуальном порядке."
   ]
  },
  {
   "cell_type": "markdown",
   "metadata": {
    "id": "BiNKVwS6hLu3"
   },
   "source": [
    "## ☝️ **Обращаем ваше внимание на следующие детали:**\n",
    "- Конкурс на каждый курс общий для 3-го и 4-го курса\n",
    "\n",
    "- По умолчанию студент выбирает один осенний и один весенний курс по выбору, а также четверокурсники выбирают один blended-курс. Студенты групп 17-го года специализаций МОП и ТИ выбирают по 2 осенних и 2 весенних курса по выбору, также студенты групп 18' специализации МИ выбирают 2 осенних курса. <i>Для студентов, которые выбирают 2 курса (например, осенних) первый приоритет — <code>fall_1</code> и <code>fall_2</code>, второй приоритет — <code>fall_3</code>. Такие студенты участвуют только в двух волнах отбора</i>.\n",
    "\n",
    "- Студенты специализации МОП не могут выбрать весенним курсом по выбору Машинное обучение 2. **Если студент специализации МОП выбрал Машинное обучение 2, то его приоритеты сдвигаются.** Из-за совпадений первого и второго курса по выбору двигать приоритеты не надо.\n",
    "\n",
    "- Blended-курсы не трогайте, по ним не надо распределять, на другие курсы они никак не влияют.\n",
    "\n",
    "- Заведомо известно, что в процессе распределения не возникнет ситуации, когда на одно место претендуют студенты с одинаковым перцентилем.\n",
    "\n",
    "- Постарайтесь воздержаться от использования циклов там, где это возможно. <i>Допустимо итерироваться по <b>курсам</b>, на которые проводится отбор, и по <b>волнам</b> отбора. Если вы придумаете, как обойтись и без этих циклов, то на усмотрение проверяющего могут быть добавлены бонусные баллы. <b>Дублирование кода не признается успешным избавлением от циклов</b></i>\n",
    "\n",
    "- На выходе ожидается файл res_fall.csv с результатами распределения на осенние курсы по выбору. Файл должен быть следующего формата:\n",
    "\n",
    "    * Три колонки: ID, course1, course2\n",
    "    \n",
    "    * Если студент не попал на курс, но должен был, то вместо названия курса в ячейке должна быть строка \"???\"\n",
    "    \n",
    "    * Если студент должен выбрать только один курс, то в колонке course2 для него должна стоять строка \"-\"\n",
    "    \n",
    "    * Если студент должен выбрать два курса по выбору, то порядок в колонках course1 и course2 не важен.\n",
    "    \n",
    "    * hint: для сохранения воспользуйтесь `df.to_csv('solution.csv', index=None)`\n",
    "    \n",
    "\n",
    "Для работы вам могут понадобиться следующие данные:\n",
    "\n",
    "- Результаты опроса (вы уже использовали этот файл в первой части задания, но на всякий случай ссылка: https://www.dropbox.com/s/f4rm8sjc3v99p0m/_end_seminar.xlsx?dl=0)\n",
    "\n",
    "- Соответствие номеров групп специализациям:\n",
    "\n",
    "    * 171, 172 - МОП; 173 - ТИ; 174 — АДИС; 175, 176 — РС; 177 — АПР\n",
    "    \n",
    "    * У студентов 18-го года номера групп соответствуют номерам до распределения по специализациям. Это означает, что по номеру группы 18* нельзя однозначно определить специализацию студента. При этом в рамках распределения важно знать информацию только о двух из них: МОП и МИ. Эти знание можно получить из колонок 'is_ml_student\n",
    "' и 'is_mi' соответственно.\n",
    "\n",
    "- Ограничения по количеству мест на курсах по выбору:\n",
    "\n",
    "    * Осенние: везде 30 мест, кроме Statistical Learning Theory (60 мест), Высокопроизводительных вычислений (60 мест), Анализа неструктурированных данных ($\\infty$ мест)\n",
    "\n",
    "    * Весенние: везде 30 мест, кроме Обучения с подкреплением (60 мест), Анализа данных в бизнесе (60 мест).\n",
    "\n",
    "\n",
    "Кстати, убедитесь, что в данных больше нет пропусков и повторных записей."
   ]
  },
  {
   "cell_type": "markdown",
   "metadata": {
    "id": "o5t55IcQhLu4"
   },
   "source": [
    "#### 0. Проверка\n",
    "\n",
    "Для начала давайте убедимся, что вы успешно выполнили задания первой части и проверим ваши данные на наличие пропусков и повторов:"
   ]
  },
  {
   "cell_type": "code",
   "execution_count": 27,
   "metadata": {
    "id": "34HWEdVdhLu4"
   },
   "outputs": [],
   "source": [
    "assert df.shape[0] == 347, 'В таблице остались повторы или потеряны данные'\n",
    "\n",
    "assert df.isna().sum().sum() == 0, 'В таблице остались пропуски'"
   ]
  },
  {
   "cell_type": "markdown",
   "metadata": {
    "id": "_ImUFyG3hLu4"
   },
   "source": [
    "Если вы не получили AssertionError, то можете продолжать."
   ]
  },
  {
   "cell_type": "markdown",
   "metadata": {
    "id": "LTGSwwvAhLu4"
   },
   "source": [
    "#### 1. [1 балл] Создайте новый признак, обозначающий, сколько осенних курсов должен выбрать студент\n",
    "\n",
    "В этом вам может помочь информация о специализации и группе стундента."
   ]
  },
  {
   "cell_type": "code",
   "execution_count": 28,
   "metadata": {
    "id": "ouxo0kHFhLu4"
   },
   "outputs": [],
   "source": [
    "df['courses_fall'] = np.ones(df.shape[0]) # сначала проставим всем 1 курс по выбору\n",
    "\n",
    "# проверяем, учится ли студент МИ (для 18 года набора)\n",
    "second_course_18 = df['is_mi'].astype('bool')\n",
    "\n",
    "# добавляем единичку к числу курсов, если это правда\n",
    "df['courses_fall'] += second_course_18"
   ]
  },
  {
   "cell_type": "code",
   "execution_count": 29,
   "metadata": {},
   "outputs": [],
   "source": [
    "# то же самое делаем для студентов 17 года набора\n",
    "df['courses_fall'] += (df['17_group'] == 171) | (df['17_group'] == 172) | (df['17_group'] == 173)"
   ]
  },
  {
   "cell_type": "markdown",
   "metadata": {
    "id": "S47aq1sQhLu4"
   },
   "source": [
    "Проверка:"
   ]
  },
  {
   "cell_type": "code",
   "execution_count": 30,
   "metadata": {
    "id": "OlOgzDKDhLu5"
   },
   "outputs": [],
   "source": [
    "col_name = 'courses_fall'    # insert your new column name as str\n",
    "\n",
    "assert(df[df['id'] == '2662600c2c37e11e62f6ee0b88452f22'][col_name] == 2).all()\n",
    "assert(df[df['id'] == 'd555d2805e1d93d4f023e57dc4c8f403'][col_name] == 2).all()\n",
    "assert(df[df['id'] == '8fe79f84f36e3a5d2d6745621321302c'][col_name] == 1).all()\n",
    "assert(df[df['id'] == 'e4caca755ee0bdd711e18fb8084958b5'][col_name] == 1).all()"
   ]
  },
  {
   "cell_type": "markdown",
   "metadata": {
    "id": "VtQYhwuPhLu5"
   },
   "source": [
    "#### 2. [2 балла] Распределите студентов в соответствии с первым приоритетом"
   ]
  },
  {
   "cell_type": "markdown",
   "metadata": {},
   "source": [
    "Да, код немножечко корявый, длинный и говнистый, но зато я полностью делал сам, даже без GPT"
   ]
  },
  {
   "cell_type": "code",
   "execution_count": 31,
   "metadata": {
    "id": "6gWfT3vqhLu5",
    "scrolled": false
   },
   "outputs": [],
   "source": [
    "df['first_round'] = [''] * len(df) # создаем колонку в которую будем записывать присвоенный студенту курс\n",
    "\n",
    "df.loc[(df['fall_1'] == df['fall_2']) &              # для уникума, который указал одинаковый курс везде\n",
    "       (df['fall_2'] == df['fall_3']), ['fall_2', 'fall_3']] = '-' \n",
    "\n",
    "# дальше собираем список курсов, которые были выбраны первым приоритетом (или вторым у тех, кому надо выбрать 2)\n",
    "courses = set(df['fall_1'].values)\n",
    "\n",
    "# также создаем два списка в которые сразу будем сохранять айди лучших и худших по перцентилю студентов\n",
    "# эти списки будут нужны в следующем задании, просто удобнее искать этих студентов сразу\n",
    "id_best = []\n",
    "id_worst = []\n",
    "\n",
    "for el in courses:\n",
    "    \n",
    "    # для каждого курса определяем максимальное кол-во мест\n",
    "    if el in ['Statistical Learning Theory', 'Высокопроизводительные вычисления']:\n",
    "        num_places = 60\n",
    "    elif el == 'Анализ неструктурированных данных':\n",
    "        num_places = 10 ** 6\n",
    "    else:\n",
    "        num_places = 30\n",
    "        \n",
    "    # собираем айди студентов, которые подали заявку на курс: это могут быть те, кому надо выбрать 1 КПВ\n",
    "    # или те, кому надо выбирать два, поэтому для них учитываем еще fall_2\n",
    "    ids = np.append(df[df['fall_1'] == el]['id'].values, \n",
    "                    df[(df['courses_fall'] == 2) & (df['fall_2'] == el)]['id'].values)\n",
    "    \n",
    "    # тут отбираем лучших по перцентилю (если это надо) и записываем прошедших отбор в ids_pass\n",
    "    if len(ids) > num_places:\n",
    "        ids_pass = df[df['id'].isin(ids)].sort_values('percentile').iloc[:num_places]['id'].values\n",
    "    else:\n",
    "        ids_pass = ids\n",
    "    \n",
    "    # наконец сохраняем айди лучших и худших студентов\n",
    "    # и присваиваем прошедшим отбор типам их курсы (в дурацком формате)\n",
    "    id_best.append(df[df['id'].isin(ids_pass)].sort_values('percentile').iloc[0]['id'])\n",
    "    id_worst.append(df[df['id'].isin(ids_pass)].sort_values('percentile').iloc[-1]['id'])\n",
    "    df.loc[df['id'].isin(ids_pass), 'first_round'] += f', {el}'"
   ]
  },
  {
   "cell_type": "markdown",
   "metadata": {},
   "source": [
    "Здесь уже преобразуем дурацкий формат в нормальный. В итоге мы получим две новые колонки *first_round_1* и *first_round_2*(пустая для тех, кому надо выбрать один курс). В них мы записываем курсы, присвоенные студентам по первой волне отбора"
   ]
  },
  {
   "cell_type": "code",
   "execution_count": 32,
   "metadata": {},
   "outputs": [],
   "source": [
    "df['first_round'] = df['first_round'].apply(lambda x: x.split(',')[1:3] if\n",
    "                                            len(x.split(',')) == 3 else x.split(',')[-1]) \n",
    "def course_1(value):\n",
    "    if len(value) == 2:\n",
    "        return value[0].strip()\n",
    "    else:\n",
    "        return value.strip()\n",
    "    \n",
    "def course_2(value):\n",
    "    if len(value) == 2:\n",
    "        return value[1].strip()\n",
    "    else:\n",
    "        return ''\n",
    "\n",
    "df['first_round_1'] = df['first_round'].apply(course_1)\n",
    "df['first_round_2'] = df['first_round'].apply(course_2)"
   ]
  },
  {
   "cell_type": "markdown",
   "metadata": {
    "id": "vc5zXP5hhLu5"
   },
   "source": [
    "Здесь для проверки приведена таблица, в которой есть 2 дополнительные колонки:\n",
    "    \n",
    "    1) is_first_place - является ли студент лучшим по перцентили хотя бы на одном из курсов, куда он был зачислен\n",
    "    (True / NaN)\n",
    "    \n",
    "    2) is_last_place  - является ли студент худшим по перцентили хотя бы на одном из курсов, куда он был зачислен (True / NaN)"
   ]
  },
  {
   "cell_type": "code",
   "execution_count": 33,
   "metadata": {},
   "outputs": [],
   "source": [
    "df['is_first_place'] = np.where(df['id'].isin(id_best), True, np.nan)\n",
    "df['is_last_place'] = np.where(df['id'].isin(id_worst), True, np.nan)"
   ]
  },
  {
   "cell_type": "code",
   "execution_count": 34,
   "metadata": {
    "id": "uZTkGEq5hLu5"
   },
   "outputs": [],
   "source": [
    "!wget  -O '2_task_check.csv' -q 'https://www.dropbox.com/s/v8o2zzq3iz5gc9w/_2_task_check.csv?dl=0'\n",
    "check_df = pd.read_csv('2_task_check.csv')"
   ]
  },
  {
   "cell_type": "markdown",
   "metadata": {
    "id": "E_fbyB9qhLu5"
   },
   "source": [
    "После распределения студентов в соответствии с первым приоритетом добавьте в свой датафрейм аналогичные признаки и запустите проверку:"
   ]
  },
  {
   "cell_type": "code",
   "execution_count": 35,
   "metadata": {
    "id": "GOAzQeYehLu6"
   },
   "outputs": [],
   "source": [
    "fir_col_name =  'is_first_place'   # insert name of your new column with is_first_place as str\n",
    "last_col_name =   'is_last_place'   # insert name of your new column with is_last_place as str\n",
    "\n",
    "\n",
    "assert((df[df[fir_col_name].isna() == False][['id']].sort_values('id').reset_index(drop=True)\n",
    "        ==\n",
    "        check_df[check_df['is_first_place'].isna() == False][['id']].sort_values('id').reset_index(drop=True)\n",
    "       ).id.values).all()\n",
    "\n",
    "\n",
    "assert((df[df[last_col_name].isna() == False][['id']].sort_values('id').reset_index(drop=True)\n",
    "       ==\n",
    "       check_df[check_df['is_last_place'].isna() == False][['id']].sort_values('id').reset_index(drop=True)\n",
    "      ).id.values).all()"
   ]
  },
  {
   "cell_type": "markdown",
   "metadata": {},
   "source": [
    "Урааа, проверка пройдена!"
   ]
  },
  {
   "cell_type": "markdown",
   "metadata": {},
   "source": [
    "Еще там было условие про МО-2, но как мы знаем его могли выбрать только весной, поэтому это условие мы игнорировали"
   ]
  },
  {
   "cell_type": "code",
   "execution_count": 36,
   "metadata": {},
   "outputs": [
    {
     "data": {
      "text/plain": [
       "False"
      ]
     },
     "execution_count": 36,
     "metadata": {},
     "output_type": "execute_result"
    }
   ],
   "source": [
    "'Машинное обучение 2' in courses"
   ]
  },
  {
   "cell_type": "markdown",
   "metadata": {
    "id": "RO6DwNNFhLu6"
   },
   "source": [
    "#### 3. [2 балла] Проведите все три волны отбора студентов на курсы по выбору"
   ]
  },
  {
   "cell_type": "markdown",
   "metadata": {
    "id": "jn2OOrLjhLu6"
   },
   "source": [
    "Проведем вторую волну отбора:"
   ]
  },
  {
   "cell_type": "code",
   "execution_count": 37,
   "metadata": {},
   "outputs": [],
   "source": [
    "# код почти такой же как и для первой, с небольшими поправками\n",
    "#добавляем список ids_left из студентов, которые не попали хотя бы на один курс\n",
    "ids_left = df[((df['courses_fall'] == 1) & (df['first_round'] == '')) |\n",
    "              ((df['courses_fall'] == 2) & ((df['first_round_1'] == '') | \n",
    "                                            (df['first_round_2'] == '')))]['id'].values\n",
    "df['second_round'] = [''] * len(df)\n",
    "for el in courses:\n",
    "    if el in ['Statistical Learning Theory', 'Высокопроизводительные вычисления']:\n",
    "        num_places = 60 - ((df['first_round_1'] == el).sum() + (df['first_round_2'] == el).sum())\n",
    "    elif el == 'Анализ неструктурированных данных':\n",
    "        num_places = 10 ** 6\n",
    "    else:\n",
    "        num_places = 30 - ((df['first_round_1'] == el).sum() + (df['first_round_2'] == el).sum())\n",
    "        \n",
    "    ids = np.append(df[(df['courses_fall'] == 1) & (df['fall_2'] == el)]['id'].values, \n",
    "                    df[(df['courses_fall'] == 2) & (df['fall_3'] == el)]['id'].values)\n",
    "    \n",
    "    if len(ids) > num_places:\n",
    "        ids_pass = df[df['id'].isin(ids) & \n",
    "                      df['id'].isin(ids_left)].sort_values('percentile').iloc[:num_places]['id'].values\n",
    "    else:\n",
    "        ids_pass = df[df['id'].isin(ids) & df['id'].isin(ids_left)]['id'].values\n",
    "    df.loc[df['id'].isin(ids_pass), 'second_round'] += f'{el}'"
   ]
  },
  {
   "cell_type": "markdown",
   "metadata": {},
   "source": [
    "Теперь третья волна:"
   ]
  },
  {
   "cell_type": "code",
   "execution_count": 38,
   "metadata": {},
   "outputs": [],
   "source": [
    "ids_left = df[(df['courses_fall'] == 1) & (df['first_round'] == '') & (df['second_round'] == '')]['id'].values\n",
    "df['third_round'] = [''] * len(df)\n",
    "\n",
    "for el in courses:\n",
    "    if el in ['Statistical Learning Theory', 'Высокопроизводительные вычисления']:\n",
    "        num_places = 60 - ((df['first_round_1'] == el).sum() + (df['first_round_2'] == el).sum() +\n",
    "                           (df['second_round'] == el).sum())\n",
    "    elif el == 'Анализ неструктурированных данных':\n",
    "        num_places = 10 ** 6\n",
    "    else:\n",
    "        num_places = 30 - ((df['first_round_1'] == el).sum() + (df['first_round_2'] == el).sum() + \n",
    "                           (df['second_round'] == el).sum())\n",
    "        \n",
    "    ids = df[(df['courses_fall'] == 1) & (df['fall_3'] == el)]['id'].values\n",
    "    \n",
    "    if len(ids) > num_places:\n",
    "        ids_pass = df[df['id'].isin(ids) & \n",
    "                      df['id'].isin(ids_left)].sort_values('percentile').iloc[:num_places]['id'].values\n",
    "    else:\n",
    "        ids_pass = df[df['id'].isin(ids) & df['id'].isin(ids_left)]['id'].values\n",
    "    df.loc[df['id'].isin(ids_pass), 'third_round'] += f'{el}'"
   ]
  },
  {
   "cell_type": "markdown",
   "metadata": {},
   "source": [
    "Теперь аккуратно получим два итоговых столбца с присвоенными курсами"
   ]
  },
  {
   "cell_type": "code",
   "execution_count": 39,
   "metadata": {},
   "outputs": [],
   "source": [
    "df['course_1'] = [''] * len(df)\n",
    "df['course_2'] = [''] * len(df)\n",
    "mask = df['first_round_1'] + df['first_round_2'] + df['second_round'] + df['third_round'] == ''\n",
    "\n",
    "df.loc[mask, 'course_1'] = '???'\n",
    "\n",
    "df.loc[~mask, 'course_1'] = (df.loc[~mask, 'first_round_1'] + ',' + df.loc[~mask, 'first_round_2'] + ',' + \n",
    "df.loc[~mask, 'second_round'] + ',' + df.loc[~mask, 'third_round']).apply(lambda x: x.strip(',').split(',')).apply(\n",
    "                                                                lambda w: [i for i in w if i != ''][0])\n",
    "\n",
    "df.loc[~mask, 'course_2'] = (df.loc[~mask, 'first_round_1'] + ',' + df.loc[~mask, 'first_round_2'] + ',' + \n",
    "df.loc[~mask, 'second_round'] + ',' + df.loc[~mask, 'third_round']).apply(lambda x: x.strip(',').split(',')).apply(\n",
    "                                                                lambda w: [i for i in w if i != ''][-1])"
   ]
  },
  {
   "cell_type": "code",
   "execution_count": 40,
   "metadata": {},
   "outputs": [],
   "source": [
    "df.loc[(df['course_1'] == df['course_2']) & (df['courses_fall'] == 2), 'course_2'] = '???'\n",
    "df.loc[(df['course_1'] == '???') & (df['courses_fall'] == 2), 'course_2'] = '???'\n",
    "df.loc[(df['course_1'] == '???') & (df['courses_fall'] == 1), 'course_2'] = '-'\n",
    "df.loc[(df['course_1'] == df['course_2']) & (df['courses_fall'] == 1), 'course_2'] = '-'"
   ]
  },
  {
   "cell_type": "code",
   "execution_count": 41,
   "metadata": {},
   "outputs": [],
   "source": [
    "res_fall = df[['id', 'course_1', 'course_2']].rename(columns = {'id': 'ID', \n",
    "                                                                'course_1': 'course1', 'course_2': 'course2'})\n",
    "res_fall.to_csv('res_fall.csv', index=None)"
   ]
  },
  {
   "cell_type": "markdown",
   "metadata": {
    "id": "1xQjV9BuhLu6"
   },
   "source": [
    "**Отправьте свой файл res_fall.csv в контест (будет в ближайшее время, следите за новостями) и прикрепите/укажите ниже ваш никнейм и ссылку на успешную посылку.**"
   ]
  },
  {
   "cell_type": "markdown",
   "metadata": {},
   "source": [
    "Ссылка на успешную посылку: https://contest.yandex.ru/contest/68637/run-report/119751707/\n",
    "\n",
    "никнейм: ommirzoev@edu.hse.ru"
   ]
  },
  {
   "cell_type": "markdown",
   "metadata": {
    "id": "QRTbPrgbhLu6"
   },
   "source": [
    "*Дисклеймер:*\n",
    "\n",
    "Успешная посылка в контесте является **обязательным** условием получения полного балла за этот (и следующий) пункт. Если добиться успешной посылки не удастся, баллы будут выставляться на усмотрение проверяюшего.\n",
    "\n",
    "При этом ОК в контесте не гарантирует полный балл. Оценка всё равно может быть снижена в случае обнаружения неэффективностей или ошибок в коде. Если вы сдадите в AnyTask очевидно неработающий код или ноутбук без кода, но при этом в контест будет сдан корректный файл, то это будет расцениваться как плагиат."
   ]
  },
  {
   "cell_type": "markdown",
   "metadata": {
    "id": "1IkQa_gdhLu6"
   },
   "source": [
    "На всякий случай просим вас сдать вместе с ноутбуком файл res_fall.csv в anytask"
   ]
  },
  {
   "cell_type": "markdown",
   "metadata": {
    "id": "k8d711qGhLu7"
   },
   "source": [
    "### 4. [1 балла] Распределите таким же образом студентов еще и на весенние курсы по выбору.\n",
    "\n",
    "Если ваш код был хорошо структурирован, то это не составит проблем.\n",
    "\n",
    "Если вы выполнили это задание, сдайте среди прочего файл res_spring.csv в таком же формате, как и res_fall.csv."
   ]
  },
  {
   "cell_type": "code",
   "execution_count": 42,
   "metadata": {
    "id": "hwmusOGThLu7"
   },
   "outputs": [],
   "source": [
    "df['courses_spring'] = np.ones(df.shape[0])\n",
    "df['courses_spring'] += (df['17_group'] == 171) | (df['17_group'] == 172) | (df['17_group'] == 173)\n",
    "\n",
    "courses_spring = set(df['spring_1'].values)\n",
    "\n",
    "# делаем сдвиг для тех кто выбрал МО-2, но не должен был\n",
    "mask = (df['17_group'] == 171) | (df['17_group'] == 172) | (df['is_ml_student'] == 1)\n",
    "\n",
    "df.loc[(mask) & (df['spring_1'] == 'Машинное обучение 2'), 'spring_1'] = df.loc[(mask) & \n",
    "                (df['spring_1'] == 'Машинное обучение 2'), 'spring_2'] \n",
    "df.loc[(mask) & (df['spring_1'] == 'Машинное обучение 2'), 'spring_2'] = '-'\n",
    "\n",
    "df.loc[(mask) & (df['spring_2'] == 'Машинное обучение 2'), 'spring_2'] = df.loc[(mask) & \n",
    "                (df['spring_2'] == 'Машинное обучение 2'), 'spring_3'] \n",
    "df.loc[(mask) & (df['spring_2'] == 'Машинное обучение 2'), 'spring_3'] = '-'\n",
    "\n",
    "df.loc[(mask) & (df['spring_3'] == 'Машинное обучение 2'), 'spring_3'] = '-'"
   ]
  },
  {
   "cell_type": "markdown",
   "metadata": {},
   "source": [
    "Проводим первую волну: (код аналогичный осеннему отбору)"
   ]
  },
  {
   "cell_type": "code",
   "execution_count": 43,
   "metadata": {},
   "outputs": [],
   "source": [
    "df['first_round_sp'] = [''] * len(df) # создаем колонку в которую будем записывать присвоенный студенту курс\n",
    "for el in courses_spring:\n",
    "    if el in ['Обучение с подкреплением', 'Анализ данных в бизнесе']:\n",
    "        num_places = 60 \n",
    "    else:\n",
    "        num_places = 30 \n",
    "        \n",
    "    ids = np.append(df[df['spring_1'] == el]['id'].values, \n",
    "                    df[(df['courses_spring'] == 2) & (df['spring_2'] == el)]['id'].values)\n",
    "\n",
    "    if len(ids) > num_places:\n",
    "        ids_pass = df[df['id'].isin(ids)].sort_values('percentile').iloc[:num_places]['id'].values\n",
    "    else:\n",
    "        ids_pass = ids\n",
    "        \n",
    "    df.loc[df['id'].isin(ids_pass), 'first_round_sp'] += f', {el}'"
   ]
  },
  {
   "cell_type": "code",
   "execution_count": 44,
   "metadata": {},
   "outputs": [],
   "source": [
    "df['first_round_sp'] = df['first_round_sp'].apply(lambda x: x.split(',')[1:3] if\n",
    "                                            len(x.split(',')) == 3 else x.split(',')[-1]) \n",
    "df['first_round_sp_1'] = df['first_round_sp'].apply(course_1)\n",
    "df['first_round_sp_2'] = df['first_round_sp'].apply(course_2)"
   ]
  },
  {
   "cell_type": "markdown",
   "metadata": {},
   "source": [
    "Теперь вторая волна:"
   ]
  },
  {
   "cell_type": "code",
   "execution_count": 45,
   "metadata": {},
   "outputs": [],
   "source": [
    "ids_left = df[((df['courses_spring'] == 1) & (df['first_round_sp'] == '')) |\n",
    "              ((df['courses_spring'] == 2) & ((df['first_round_sp_1'] == '') | \n",
    "                                            (df['first_round_sp_2'] == '')))]['id'].values\n",
    "df['second_round_sp'] = [''] * len(df)\n",
    "for el in courses_spring:\n",
    "    if el in ['Обучение с подкреплением', 'Анализ данных в бизнесе']:\n",
    "        num_places = 60 - ((df['first_round_sp_1'] == el).sum() + (df['first_round_sp_2'] == el).sum())\n",
    "    else:\n",
    "        num_places = 30 - ((df['first_round_sp_1'] == el).sum() + (df['first_round_sp_2'] == el).sum())\n",
    "        \n",
    "    ids = np.append(df[(df['courses_spring'] == 1) & (df['spring_2'] == el)]['id'].values, \n",
    "                    df[(df['courses_spring'] == 2) & (df['spring_3'] == el)]['id'].values)\n",
    "    \n",
    "    if len(ids) > num_places:\n",
    "        ids_pass = df[df['id'].isin(ids) & \n",
    "                      df['id'].isin(ids_left)].sort_values('percentile').iloc[:num_places]['id'].values\n",
    "    else:\n",
    "        ids_pass = df[df['id'].isin(ids) & df['id'].isin(ids_left)]['id'].values\n",
    "    df.loc[df['id'].isin(ids_pass), 'second_round_sp'] += f'{el}'"
   ]
  },
  {
   "cell_type": "markdown",
   "metadata": {},
   "source": [
    "Третья волна:"
   ]
  },
  {
   "cell_type": "code",
   "execution_count": 46,
   "metadata": {},
   "outputs": [],
   "source": [
    "ids_left = df[(df['courses_spring'] == 1) & (df['first_round_sp'] == '') & \n",
    "              (df['second_round_sp'] == '')]['id'].values\n",
    "df['third_round_sp'] = [''] * len(df)\n",
    "\n",
    "for el in courses_spring:\n",
    "    if el in ['Обучение с подкреплением', 'Анализ данных в бизнесе']:\n",
    "        num_places = 60 - ((df['first_round_sp_1'] == el).sum() + (df['first_round_sp_2'] == el).sum() +\n",
    "                          (df['second_round_sp'] == el).sum())\n",
    "    else:\n",
    "        num_places = 30 - ((df['first_round_sp_1'] == el).sum() + (df['first_round_sp_2'] == el).sum() +\n",
    "                          (df['second_round_sp'] == el).sum())\n",
    "        \n",
    "    ids = df[(df['courses_spring'] == 1) & (df['spring_3'] == el)]['id'].values\n",
    "    \n",
    "    if len(ids) > num_places:\n",
    "        ids_pass = df[df['id'].isin(ids) & \n",
    "                      df['id'].isin(ids_left)].sort_values('percentile').iloc[:num_places]['id'].values\n",
    "    else:\n",
    "        ids_pass = df[df['id'].isin(ids) & df['id'].isin(ids_left)]['id'].values\n",
    "    df.loc[df['id'].isin(ids_pass), 'third_round_sp'] += f'{el}'"
   ]
  },
  {
   "cell_type": "code",
   "execution_count": 47,
   "metadata": {},
   "outputs": [],
   "source": [
    "df['course_1_sp'] = [''] * len(df)\n",
    "df['course_2_sp'] = [''] * len(df)\n",
    "mask = df['first_round_sp_1'] + df['first_round_sp_2'] + df['second_round_sp'] + df['third_round_sp'] == ''\n",
    "\n",
    "df.loc[mask, 'course_1_sp'] = '???'\n",
    "\n",
    "df.loc[~mask, 'course_1_sp'] = (df.loc[~mask, 'first_round_sp_1'] + ',' + df.loc[~mask, 'first_round_sp_2'] + ',' + \n",
    "df.loc[~mask, 'second_round_sp'] + ',' + df.loc[~mask, 'third_round_sp']).apply(lambda x: x.strip(',').split(',')).apply(\n",
    "                                                                lambda w: [i for i in w if i != ''][0])\n",
    "\n",
    "df.loc[~mask, 'course_2_sp'] = (df.loc[~mask, 'first_round_sp_1'] + ',' + df.loc[~mask, 'first_round_sp_2'] + ',' + \n",
    "df.loc[~mask, 'second_round_sp'] + ',' + df.loc[~mask, 'third_round_sp']).apply(lambda x: x.strip(',').split(',')).apply(\n",
    "                                                                lambda w: [i for i in w if i != ''][-1])"
   ]
  },
  {
   "cell_type": "code",
   "execution_count": 48,
   "metadata": {},
   "outputs": [],
   "source": [
    "df.loc[(df['course_1_sp'] == df['course_2_sp']) & (df['courses_spring'] == 2), 'course_2_sp'] = '???'\n",
    "df.loc[(df['course_1_sp'] == '???') & (df['courses_spring'] == 2), 'course_2_sp'] = '???'\n",
    "df.loc[(df['course_1_sp'] == '???') & (df['courses_spring'] == 1), 'course_2_sp'] = '-'\n",
    "df.loc[(df['course_1_sp'] == df['course_2_sp']) & (df['courses_spring'] == 1), 'course_2_sp'] = '-'"
   ]
  },
  {
   "cell_type": "code",
   "execution_count": 49,
   "metadata": {},
   "outputs": [],
   "source": [
    "res_spring = df[['id', 'course_1_sp', 'course_2_sp']].rename(columns = {'id': 'ID', \n",
    "                                                            'course_1_sp': 'course1', 'course_2_sp': 'course2'})\n",
    "res_spring.to_csv('res_spring.csv', index=None)"
   ]
  },
  {
   "cell_type": "markdown",
   "metadata": {
    "id": "It7QQZLYhLu7"
   },
   "source": [
    "**Отправьте свой файл res_spring.csv в контест (будет в ближайшее время, следите за новостями) и прикрепите/укажите ниже ваш никнейм и ссылку на успешную посылку.**"
   ]
  },
  {
   "cell_type": "markdown",
   "metadata": {},
   "source": [
    "Ссылка на успешную посылку: https://contest.yandex.ru/contest/68637/run-report/119763862/\n",
    "\n",
    "никнейм: ommirzoev@edu.hse.ru"
   ]
  },
  {
   "cell_type": "markdown",
   "metadata": {
    "id": "1YcouVTihLu7"
   },
   "source": [
    "На всякий случай просим вас сдать вместе с ноутбуком файл res_spring.csv в anytask"
   ]
  },
  {
   "cell_type": "markdown",
   "metadata": {
    "id": "uY_OY6inhLu7"
   },
   "source": [
    "Вставьте картинку, описывающую ваш опыт выполнения этого задания:"
   ]
  },
  {
   "cell_type": "markdown",
   "metadata": {},
   "source": [
    "<img src=\"https://media.tenor.com/S9OfIBMy-pYAAAAM/rage.gif\" style=\"width: 400px\">"
   ]
  },
  {
   "cell_type": "markdown",
   "metadata": {},
   "source": [
    "На самом деле эта домашка знакомит нас с реальными, жизненными данными, в которых полно всяких неровностей, несостыковок и гениев, которые видимо решили, что если указать один курс для всех приоритетов, то это повысит шанс попадания на этот курс."
   ]
  },
  {
   "cell_type": "markdown",
   "metadata": {},
   "source": [
    "<img src=\"https://external-preview.redd.it/in-infinity-war-thanos-states-reality-is-often-v0-WijKlJRJfZ3sI9gHcsQhTSzFABXbpYOQpMTN5Gg-F-U.jpg?auto=webp&s=6d8b16d31b7eeb77c21abc06d0bcbf3d16532c39\" style=\"width: 500px\">"
   ]
  }
 ],
 "metadata": {
  "colab": {
   "provenance": []
  },
  "kernelspec": {
   "display_name": "Python 3 (ipykernel)",
   "language": "python",
   "name": "python3"
  },
  "language_info": {
   "codemirror_mode": {
    "name": "ipython",
    "version": 3
   },
   "file_extension": ".py",
   "mimetype": "text/x-python",
   "name": "python",
   "nbconvert_exporter": "python",
   "pygments_lexer": "ipython3",
   "version": "3.9.12"
  },
  "varInspector": {
   "cols": {
    "lenName": 16,
    "lenType": 16,
    "lenVar": 40
   },
   "kernels_config": {
    "python": {
     "delete_cmd_postfix": "",
     "delete_cmd_prefix": "del ",
     "library": "var_list.py",
     "varRefreshCmd": "print(var_dic_list())"
    },
    "r": {
     "delete_cmd_postfix": ") ",
     "delete_cmd_prefix": "rm(",
     "library": "var_list.r",
     "varRefreshCmd": "cat(var_dic_list()) "
    }
   },
   "types_to_exclude": [
    "module",
    "function",
    "builtin_function_or_method",
    "instance",
    "_Feature"
   ],
   "window_display": false
  },
  "vscode": {
   "interpreter": {
    "hash": "e7370f93d1d0cde622a1f8e1c04877d8463912d04d973331ad4851f04de6915a"
   }
  }
 },
 "nbformat": 4,
 "nbformat_minor": 1
}
